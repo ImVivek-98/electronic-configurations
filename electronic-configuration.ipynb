{
 "cells": [
  {
   "cell_type": "markdown",
   "metadata": {},
   "source": [
    "# Finding all electronic configurations\n",
    "\n",
    "The recommended way to run this notebook is to click the \"Run\" button at the top of this page, and select \"Run on Binder\". This will run the notebook on mybinder.org, a free online service for running Jupyter notebooks. Alternatively, you could install Python and download this notebook on your computer to run it locally. The [conda](https://www.anaconda.com/products/individual#Downloads) distribution of python is recommended for this.\n",
    "\n",
    "In this notebook we try to find all possible electronic configurations of a system with equidistant energy levels as shown in [this](https://ecee.colorado.edu/~bart/book/book/chapter2/ch2_5.htm) chapter at section [2.5.2](https://ecee.colorado.edu/~bart/book/book/chapter2/ch2_5.htm#2_5_2).\n",
    "\n",
    "![](https://ecee.colorado.edu/~bart/book/book/chapter2/gif/fig2_5_2.gif)\n",
    "The example and the image has been taken from chapter 2 of the book [Principles of Semiconductor Devices](https://ecee.colorado.edu/~bart/book/book/append/quick.htm).\n",
    "All credits goes to the respective owners."
   ]
  },
  {
   "cell_type": "markdown",
   "metadata": {},
   "source": [
    "First we import the necessary libraries"
   ]
  },
  {
   "cell_type": "code",
   "execution_count": 1,
   "metadata": {},
   "outputs": [],
   "source": [
    "import numpy as np\n",
    "from sympy.utilities.iterables import variations"
   ]
  },
  {
   "cell_type": "markdown",
   "metadata": {},
   "source": [
    "Now we provide values for the number of electrones `n` and total energy `e`. If the values you entered are invalid (has no possible configurations), a warning pops up and you probably need to recheck your input values. In our case, `n=20` and `e=106`, which are perfectly valid."
   ]
  },
  {
   "cell_type": "code",
   "execution_count": 2,
   "metadata": {},
   "outputs": [],
   "source": [
    "n = 20\n",
    "e = 106\n",
    "\n",
    "if (n%2==0 and e%1==0) or (n%2==1 and e%1==0.5):\n",
    "    pass\n",
    "else:\n",
    "    print('Invalid values')"
   ]
  },
  {
   "cell_type": "markdown",
   "metadata": {},
   "source": [
    "The way in which we are going to show the possible electronic configurations is by using a numpy array wherein each element corresponds to the number of electrons in a particular energy level (We can do this because electrons are indistinguishable from each other). We start by filling up electrons in the lowest levels. If the number of electrons is odd, an additional energy level is created to account for the extra electron."
   ]
  },
  {
   "cell_type": "code",
   "execution_count": 3,
   "metadata": {},
   "outputs": [
    {
     "data": {
      "text/plain": [
       "array([2., 2., 2., 2., 2., 2., 2., 2., 2., 2.])"
      ]
     },
     "execution_count": 3,
     "metadata": {},
     "output_type": "execute_result"
    }
   ],
   "source": [
    "electron_states = np.ones(n//2)*2\n",
    "if not n%2==0: \n",
    "    electron_states = np.append(electron_states,1)\n",
    "\n",
    "electron_states"
   ]
  },
  {
   "cell_type": "markdown",
   "metadata": {},
   "source": [
    "We also set up another array with energies of the energy levels."
   ]
  },
  {
   "cell_type": "code",
   "execution_count": 4,
   "metadata": {},
   "outputs": [
    {
     "data": {
      "text/plain": [
       "array([0.5, 1.5, 2.5, 3.5, 4.5, 5.5, 6.5, 7.5, 8.5, 9.5])"
      ]
     },
     "execution_count": 4,
     "metadata": {},
     "output_type": "execute_result"
    }
   ],
   "source": [
    "energy = np.arange(0.5,0.5+len(electron_states))\n",
    "\n",
    "energy"
   ]
  },
  {
   "cell_type": "markdown",
   "metadata": {},
   "source": [
    "After the electrons are filled up, we calculate the ground state energy by taking a dot product between the energies and the number of electrons of the energy levels. This is then compared with the given energy. If the given energy turns out to be less than the ground state energy, a warning pops up and you will need to recheck your input values. In the special case wherein the given energy is equal to the ground state energy, the only possible configuration is the ground state configuration which is redundant."
   ]
  },
  {
   "cell_type": "code",
   "execution_count": 5,
   "metadata": {},
   "outputs": [
    {
     "data": {
      "text/plain": [
       "100.0"
      ]
     },
     "execution_count": 5,
     "metadata": {},
     "output_type": "execute_result"
    }
   ],
   "source": [
    "ground_state_energy = np.dot(electron_states,energy)\n",
    "\n",
    "if e < ground_state_energy:\n",
    "    print('Invalid values')\n",
    "elif e == ground_state_energy:\n",
    "    print('Given energy is ground state energy')\n",
    "    \n",
    "ground_state_energy"
   ]
  },
  {
   "cell_type": "markdown",
   "metadata": {},
   "source": [
    "As you may have noticed already, there is a maximum energy level `max_en` upto which the electron could go. Also, in many cases, electrons at the lowest levels do not take part in this whole process. The energy level upto which electrons are present which do not take part in this process is `min_en` (It is decremented by one in the case of odd electrons). This extra step is required to make the computational process easier for our computer. If `min_en` is not valid, we set it to zero."
   ]
  },
  {
   "cell_type": "code",
   "execution_count": 6,
   "metadata": {},
   "outputs": [
    {
     "name": "stdout",
     "output_type": "stream",
     "text": [
      "Max: 16 \n",
      "Min: 4\n"
     ]
    }
   ],
   "source": [
    "max_en = int(len(electron_states) + (e - ground_state_energy))\n",
    "min_en = int(len(electron_states) - (e - ground_state_energy))\n",
    "if n%2==1: min_en -= 1\n",
    "    \n",
    "min_en = min_en if min_en>0 else 0\n",
    "print('Max:',max_en,'\\nMin:',min_en)"
   ]
  },
  {
   "cell_type": "markdown",
   "metadata": {},
   "source": [
    "Now we extend the `electron_state` array and the `energy` array to a length of `max_en`."
   ]
  },
  {
   "cell_type": "code",
   "execution_count": 7,
   "metadata": {},
   "outputs": [
    {
     "data": {
      "text/plain": [
       "array([2., 2., 2., 2., 2., 2., 2., 2., 2., 2., 0., 0., 0., 0., 0., 0.])"
      ]
     },
     "execution_count": 7,
     "metadata": {},
     "output_type": "execute_result"
    }
   ],
   "source": [
    "while len(electron_states) < max_en:\n",
    "    electron_states = np.append(electron_states,0)\n",
    "    \n",
    "electron_states"
   ]
  },
  {
   "cell_type": "code",
   "execution_count": 8,
   "metadata": {},
   "outputs": [
    {
     "data": {
      "text/plain": [
       "array([ 0.5,  1.5,  2.5,  3.5,  4.5,  5.5,  6.5,  7.5,  8.5,  9.5, 10.5,\n",
       "       11.5, 12.5, 13.5, 14.5, 15.5])"
      ]
     },
     "execution_count": 8,
     "metadata": {},
     "output_type": "execute_result"
    }
   ],
   "source": [
    "energy = np.arange(0.5,0.5+len(electron_states))\n",
    "\n",
    "energy"
   ]
  },
  {
   "cell_type": "markdown",
   "metadata": {},
   "source": [
    "Before we slice the initial few elements of the `energy` array which are not required for the computation, we store those values in another variable `init_energy` which we will use later on. If `min_en` is zero, we set it to a zero matrix."
   ]
  },
  {
   "cell_type": "code",
   "execution_count": 9,
   "metadata": {},
   "outputs": [
    {
     "data": {
      "text/plain": [
       "array([0.5, 1.5, 2.5, 3.5])"
      ]
     },
     "execution_count": 9,
     "metadata": {},
     "output_type": "execute_result"
    }
   ],
   "source": [
    "temp_energy = energy[:min_en]\n",
    "if min_en == 0: temp_energy = np.zeros(1)\n",
    "    \n",
    "temp_energy   "
   ]
  },
  {
   "cell_type": "code",
   "execution_count": 10,
   "metadata": {},
   "outputs": [
    {
     "data": {
      "text/plain": [
       "array([ 4.5,  5.5,  6.5,  7.5,  8.5,  9.5, 10.5, 11.5, 12.5, 13.5, 14.5,\n",
       "       15.5])"
      ]
     },
     "execution_count": 10,
     "metadata": {},
     "output_type": "execute_result"
    }
   ],
   "source": [
    "energy = energy[min_en:]\n",
    "\n",
    "energy"
   ]
  },
  {
   "cell_type": "markdown",
   "metadata": {},
   "source": [
    "Now we use the `variations` method from the sympy library to calculate all possible configurations of 0, 1 and 2 electrons occupying the energy levels such that, the sum of all electrons should be `n` and the total energy of the electrons should be `e`. We have also accounted for the energy levels we have ignored before in the process. Documentation on the `variations` method can be found [here](https://docs.sympy.org/latest/modules/utilities/iterables.html#variations).\n",
    "\n",
    "Finally, we sort the results for better readability and print out all possible configurations."
   ]
  },
  {
   "cell_type": "code",
   "execution_count": 11,
   "metadata": {},
   "outputs": [
    {
     "name": "stdout",
     "output_type": "stream",
     "text": [
      "There are 24 configurations\n",
      "[2, 2, 2, 2, 2, 2, 2, 2, 2, 1, 0, 0, 0, 0, 0, 1]\n",
      "[2, 2, 2, 2, 2, 2, 2, 2, 2, 0, 1, 0, 0, 0, 1, 0]\n",
      "[2, 2, 2, 2, 2, 2, 2, 2, 2, 0, 0, 1, 0, 1, 0, 0]\n",
      "[2, 2, 2, 2, 2, 2, 2, 2, 2, 0, 0, 0, 2, 0, 0, 0]\n",
      "[2, 2, 2, 2, 2, 2, 2, 2, 1, 2, 0, 0, 0, 0, 1, 0]\n",
      "[2, 2, 2, 2, 2, 2, 2, 2, 1, 1, 1, 0, 0, 1, 0, 0]\n",
      "[2, 2, 2, 2, 2, 2, 2, 2, 1, 1, 0, 1, 1, 0, 0, 0]\n",
      "[2, 2, 2, 2, 2, 2, 2, 2, 1, 0, 2, 0, 1, 0, 0, 0]\n",
      "[2, 2, 2, 2, 2, 2, 2, 2, 1, 0, 1, 2, 0, 0, 0, 0]\n",
      "[2, 2, 2, 2, 2, 2, 2, 2, 0, 2, 1, 0, 1, 0, 0, 0]\n",
      "[2, 2, 2, 2, 2, 2, 2, 2, 0, 2, 0, 2, 0, 0, 0, 0]\n",
      "[2, 2, 2, 2, 2, 2, 2, 2, 0, 1, 2, 1, 0, 0, 0, 0]\n",
      "[2, 2, 2, 2, 2, 2, 2, 1, 2, 2, 0, 0, 0, 1, 0, 0]\n",
      "[2, 2, 2, 2, 2, 2, 2, 1, 2, 1, 1, 0, 1, 0, 0, 0]\n",
      "[2, 2, 2, 2, 2, 2, 2, 1, 2, 1, 0, 2, 0, 0, 0, 0]\n",
      "[2, 2, 2, 2, 2, 2, 2, 1, 2, 0, 2, 1, 0, 0, 0, 0]\n",
      "[2, 2, 2, 2, 2, 2, 2, 1, 1, 2, 1, 1, 0, 0, 0, 0]\n",
      "[2, 2, 2, 2, 2, 2, 2, 0, 2, 2, 2, 0, 0, 0, 0, 0]\n",
      "[2, 2, 2, 2, 2, 2, 1, 2, 2, 2, 0, 0, 1, 0, 0, 0]\n",
      "[2, 2, 2, 2, 2, 2, 1, 2, 2, 1, 1, 1, 0, 0, 0, 0]\n",
      "[2, 2, 2, 2, 2, 2, 1, 2, 1, 2, 2, 0, 0, 0, 0, 0]\n",
      "[2, 2, 2, 2, 2, 1, 2, 2, 2, 2, 0, 1, 0, 0, 0, 0]\n",
      "[2, 2, 2, 2, 2, 1, 2, 2, 2, 1, 2, 0, 0, 0, 0, 0]\n",
      "[2, 2, 2, 2, 1, 2, 2, 2, 2, 2, 1, 0, 0, 0, 0, 0]\n",
      "Wall time: 2.15 s\n"
     ]
    }
   ],
   "source": [
    "%%time\n",
    "result = list()\n",
    "for i in variations([0,1,2],len(energy),True):\n",
    "    if sum(i) == n-(min_en*2) and np.dot(i,energy) == e - np.dot(temp_energy,np.ones(len(temp_energy))*2):\n",
    "        result.append(list(np.append(np.ones(min_en)*2,i).astype(int)))\n",
    "\n",
    "result.sort(reverse=True)\n",
    "print('There are {} configurations'.format(len(result)))\n",
    "for i in result:\n",
    "    print(i)"
   ]
  },
  {
   "cell_type": "markdown",
   "metadata": {},
   "source": [
    "Hope that helped. Any sort of feedbacks or comments would be highly appreciated :)\n",
    "\n",
    "Produced by [Vivek K R](https://www.linkedin.com/in/imvivek98/) (vkr885@gmail.com)"
   ]
  },
  {
   "cell_type": "code",
   "execution_count": null,
   "metadata": {},
   "outputs": [
    {
     "data": {
      "application/javascript": [
       "window.require && require([\"base/js/namespace\"],function(Jupyter){Jupyter.notebook.save_checkpoint()})"
      ],
      "text/plain": [
       "<IPython.core.display.Javascript object>"
      ]
     },
     "metadata": {},
     "output_type": "display_data"
    },
    {
     "name": "stdout",
     "output_type": "stream",
     "text": [
      "[jovian] Attempting to save notebook..\r\n"
     ]
    }
   ],
   "source": [
    "import jovian\n",
    "jovian.commit(project='electronic-configuration')"
   ]
  },
  {
   "cell_type": "code",
   "execution_count": null,
   "metadata": {},
   "outputs": [],
   "source": []
  }
 ],
 "metadata": {
  "kernelspec": {
   "display_name": "Python 3",
   "language": "python",
   "name": "python3"
  },
  "language_info": {
   "codemirror_mode": {
    "name": "ipython",
    "version": 3
   },
   "file_extension": ".py",
   "mimetype": "text/x-python",
   "name": "python",
   "nbconvert_exporter": "python",
   "pygments_lexer": "ipython3",
   "version": "3.8.3"
  }
 },
 "nbformat": 4,
 "nbformat_minor": 4
}
