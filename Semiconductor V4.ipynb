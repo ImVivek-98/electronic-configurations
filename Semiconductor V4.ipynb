{
 "cells": [
  {
   "cell_type": "code",
   "execution_count": 1,
   "metadata": {},
   "outputs": [],
   "source": [
    "import numpy as np\n",
    "from sympy.utilities.iterables import variations"
   ]
  },
  {
   "cell_type": "code",
   "execution_count": 2,
   "metadata": {},
   "outputs": [],
   "source": [
    "n = 20\n",
    "e = 106\n",
    "\n",
    "if (n%2==0 and e%1==0) or (n%2==1 and e%1==0.5):\n",
    "    pass\n",
    "else:\n",
    "    print('Invalid values')"
   ]
  },
  {
   "cell_type": "code",
   "execution_count": 3,
   "metadata": {},
   "outputs": [],
   "source": [
    "electron_states = np.ones(n//2)*2\n",
    "if not n%2==0: \n",
    "    electron_states = np.append(electron_states,1)\n",
    "energy = np.arange(0.5,0.5+len(electron_states))\n",
    "ground_state_energy = np.dot(electron_states,energy)\n",
    "\n",
    "if e < ground_state_energy:\n",
    "    print('Invalid values')\n",
    "elif e == ground_state_energy:\n",
    "    print('Given energy is ground state energy')"
   ]
  },
  {
   "cell_type": "code",
   "execution_count": 4,
   "metadata": {},
   "outputs": [
    {
     "name": "stdout",
     "output_type": "stream",
     "text": [
      "16 4\n"
     ]
    }
   ],
   "source": [
    "max_en = int(len(electron_states) + (e - ground_state_energy))\n",
    "min_en = int(len(electron_states) - (e - ground_state_energy))\n",
    "min_en = min_en if min_en>0 else 0\n",
    "print(max_en,min_en)"
   ]
  },
  {
   "cell_type": "code",
   "execution_count": 5,
   "metadata": {},
   "outputs": [],
   "source": [
    "while len(electron_states) < max_en:\n",
    "    electron_states = np.append(electron_states,0)\n",
    "energy = np.arange(0.5,0.5+len(electron_states))"
   ]
  },
  {
   "cell_type": "code",
   "execution_count": 6,
   "metadata": {},
   "outputs": [
    {
     "data": {
      "text/plain": [
       "array([0.5, 1.5, 2.5, 3.5])"
      ]
     },
     "execution_count": 6,
     "metadata": {},
     "output_type": "execute_result"
    }
   ],
   "source": [
    "temp_energy = energy[:min_en]\n",
    "if min_en == 0: temp_energy = np.zeros(1)\n",
    "temp_energy   "
   ]
  },
  {
   "cell_type": "code",
   "execution_count": 7,
   "metadata": {},
   "outputs": [
    {
     "data": {
      "text/plain": [
       "array([ 4.5,  5.5,  6.5,  7.5,  8.5,  9.5, 10.5, 11.5, 12.5, 13.5, 14.5,\n",
       "       15.5])"
      ]
     },
     "execution_count": 7,
     "metadata": {},
     "output_type": "execute_result"
    }
   ],
   "source": [
    "energy = energy[min_en:]\n",
    "energy"
   ]
  },
  {
   "cell_type": "code",
   "execution_count": 8,
   "metadata": {},
   "outputs": [
    {
     "name": "stdout",
     "output_type": "stream",
     "text": [
      "There are 24 configurations\n",
      "[2, 2, 2, 2, 2, 2, 2, 2, 2, 1, 0, 0, 0, 0, 0, 1]\n",
      "[2, 2, 2, 2, 2, 2, 2, 2, 2, 0, 1, 0, 0, 0, 1, 0]\n",
      "[2, 2, 2, 2, 2, 2, 2, 2, 2, 0, 0, 1, 0, 1, 0, 0]\n",
      "[2, 2, 2, 2, 2, 2, 2, 2, 2, 0, 0, 0, 2, 0, 0, 0]\n",
      "[2, 2, 2, 2, 2, 2, 2, 2, 1, 2, 0, 0, 0, 0, 1, 0]\n",
      "[2, 2, 2, 2, 2, 2, 2, 2, 1, 1, 1, 0, 0, 1, 0, 0]\n",
      "[2, 2, 2, 2, 2, 2, 2, 2, 1, 1, 0, 1, 1, 0, 0, 0]\n",
      "[2, 2, 2, 2, 2, 2, 2, 2, 1, 0, 2, 0, 1, 0, 0, 0]\n",
      "[2, 2, 2, 2, 2, 2, 2, 2, 1, 0, 1, 2, 0, 0, 0, 0]\n",
      "[2, 2, 2, 2, 2, 2, 2, 2, 0, 2, 1, 0, 1, 0, 0, 0]\n",
      "[2, 2, 2, 2, 2, 2, 2, 2, 0, 2, 0, 2, 0, 0, 0, 0]\n",
      "[2, 2, 2, 2, 2, 2, 2, 2, 0, 1, 2, 1, 0, 0, 0, 0]\n",
      "[2, 2, 2, 2, 2, 2, 2, 1, 2, 2, 0, 0, 0, 1, 0, 0]\n",
      "[2, 2, 2, 2, 2, 2, 2, 1, 2, 1, 1, 0, 1, 0, 0, 0]\n",
      "[2, 2, 2, 2, 2, 2, 2, 1, 2, 1, 0, 2, 0, 0, 0, 0]\n",
      "[2, 2, 2, 2, 2, 2, 2, 1, 2, 0, 2, 1, 0, 0, 0, 0]\n",
      "[2, 2, 2, 2, 2, 2, 2, 1, 1, 2, 1, 1, 0, 0, 0, 0]\n",
      "[2, 2, 2, 2, 2, 2, 2, 0, 2, 2, 2, 0, 0, 0, 0, 0]\n",
      "[2, 2, 2, 2, 2, 2, 1, 2, 2, 2, 0, 0, 1, 0, 0, 0]\n",
      "[2, 2, 2, 2, 2, 2, 1, 2, 2, 1, 1, 1, 0, 0, 0, 0]\n",
      "[2, 2, 2, 2, 2, 2, 1, 2, 1, 2, 2, 0, 0, 0, 0, 0]\n",
      "[2, 2, 2, 2, 2, 1, 2, 2, 2, 2, 0, 1, 0, 0, 0, 0]\n",
      "[2, 2, 2, 2, 2, 1, 2, 2, 2, 1, 2, 0, 0, 0, 0, 0]\n",
      "[2, 2, 2, 2, 1, 2, 2, 2, 2, 2, 1, 0, 0, 0, 0, 0]\n",
      "Wall time: 718 ms\n"
     ]
    }
   ],
   "source": [
    "%%time\n",
    "result = list()\n",
    "temp = [0,1,2]\n",
    "for i in variations(temp,len(energy),True):\n",
    "    if sum(i) == n-(min_en*2) and np.dot(i,energy) == e - np.dot(temp_energy,np.ones(len(temp_energy))*2):\n",
    "        result.append(list(np.append(np.ones(min_en)*2,i).astype(int)))\n",
    "\n",
    "result.sort(reverse=True)\n",
    "print('There are {} configurations'.format(len(result)))\n",
    "for i in result:\n",
    "    print(i)"
   ]
  },
  {
   "cell_type": "code",
   "execution_count": null,
   "metadata": {},
   "outputs": [],
   "source": []
  }
 ],
 "metadata": {
  "kernelspec": {
   "display_name": "Python 3",
   "language": "python",
   "name": "python3"
  },
  "language_info": {
   "codemirror_mode": {
    "name": "ipython",
    "version": 3
   },
   "file_extension": ".py",
   "mimetype": "text/x-python",
   "name": "python",
   "nbconvert_exporter": "python",
   "pygments_lexer": "ipython3",
   "version": "3.8.3"
  }
 },
 "nbformat": 4,
 "nbformat_minor": 4
}
